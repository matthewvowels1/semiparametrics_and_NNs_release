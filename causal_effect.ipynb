{
 "cells": [
  {
   "cell_type": "markdown",
   "id": "097b9b03",
   "metadata": {},
   "source": [
    "# Example Automatic IF Derivation"
   ]
  },
  {
   "cell_type": "code",
   "execution_count": 5,
   "id": "261668ea",
   "metadata": {},
   "outputs": [
    {
     "name": "stdout",
     "output_type": "stream",
     "text": [
      "Plotting graph...\n"
     ]
    },
    {
     "data": {
      "image/svg+xml": [
       "<?xml version=\"1.0\" encoding=\"UTF-8\"?>\n",
       "<svg xmlns=\"http://www.w3.org/2000/svg\" xmlns:xlink=\"http://www.w3.org/1999/xlink\" width=\"300pt\" height=\"300pt\" viewBox=\"0 0 300 300\" version=\"1.1\">\n",
       "<defs>\n",
       "<g>\n",
       "<symbol overflow=\"visible\" id=\"glyph0-0\">\n",
       "<path style=\"stroke:none;\" d=\"M 0.703125 2.46875 L 0.703125 -9.875 L 7.703125 -9.875 L 7.703125 2.46875 Z M 1.484375 1.703125 L 6.921875 1.703125 L 6.921875 -9.078125 L 1.484375 -9.078125 Z M 1.484375 1.703125 \"/>\n",
       "</symbol>\n",
       "<symbol overflow=\"visible\" id=\"glyph0-1\">\n",
       "<path style=\"stroke:none;\" d=\"M -0.046875 -10.203125 L 8.59375 -10.203125 L 8.59375 -9.046875 L 4.96875 -9.046875 L 4.96875 0 L 3.578125 0 L 3.578125 -9.046875 L -0.046875 -9.046875 Z M -0.046875 -10.203125 \"/>\n",
       "</symbol>\n",
       "<symbol overflow=\"visible\" id=\"glyph0-2\">\n",
       "<path style=\"stroke:none;\" d=\"M -0.03125 -10.203125 L 1.453125 -10.203125 L 4.28125 -6.015625 L 7.09375 -10.203125 L 8.578125 -10.203125 L 4.96875 -4.859375 L 4.96875 0 L 3.578125 0 L 3.578125 -4.859375 Z M -0.03125 -10.203125 \"/>\n",
       "</symbol>\n",
       "<symbol overflow=\"visible\" id=\"glyph0-3\">\n",
       "<path style=\"stroke:none;\" d=\"M 0.875 -10.203125 L 2.359375 -10.203125 L 4.90625 -6.40625 L 7.453125 -10.203125 L 8.9375 -10.203125 L 5.65625 -5.3125 L 9.15625 0 L 7.671875 0 L 4.796875 -4.34375 L 1.90625 0 L 0.421875 0 L 4.0625 -5.453125 Z M 0.875 -10.203125 \"/>\n",
       "</symbol>\n",
       "</g>\n",
       "</defs>\n",
       "<g id=\"surface14\">\n",
       "<rect x=\"0\" y=\"0\" width=\"300\" height=\"300\" style=\"fill:rgb(100%,100%,100%);fill-opacity:1;stroke:none;\"/>\n",
       "<path style=\"fill:none;stroke-width:2.5;stroke-linecap:butt;stroke-linejoin:miter;stroke:rgb(0%,0%,100%);stroke-opacity:1;stroke-miterlimit:10;\" d=\"M 260 150 L 61.703125 249.148438 \"/>\n",
       "<path style=\" stroke:none;fill-rule:nonzero;fill:rgb(0%,0%,100%);fill-opacity:1;\" d=\"M 48.945312 255.527344 L 59.632812 245.003906 L 63.777344 253.292969 L 48.945312 255.527344 \"/>\n",
       "<path style=\"fill:none;stroke-width:2.5;stroke-linecap:butt;stroke-linejoin:miter;stroke:rgb(0%,0%,100%);stroke-opacity:1;stroke-miterlimit:10;\" d=\"M 40 40 L 238.296875 139.148438 \"/>\n",
       "<path style=\" stroke:none;fill-rule:nonzero;fill:rgb(0%,0%,100%);fill-opacity:1;\" d=\"M 251.054688 145.527344 L 236.222656 143.292969 L 240.367188 135.003906 L 251.054688 145.527344 \"/>\n",
       "<path style=\"fill:none;stroke-width:2.5;stroke-linecap:butt;stroke-linejoin:miter;stroke:rgb(0%,0%,100%);stroke-opacity:1;stroke-miterlimit:10;\" d=\"M 40 40 L 40 235.734375 \"/>\n",
       "<path style=\" stroke:none;fill-rule:nonzero;fill:rgb(0%,0%,100%);fill-opacity:1;\" d=\"M 40 250 L 35.363281 235.734375 L 44.636719 235.734375 L 40 250 \"/>\n",
       "<path style=\"fill-rule:nonzero;fill:rgb(100%,0%,0%);fill-opacity:1;stroke-width:1;stroke-linecap:butt;stroke-linejoin:miter;stroke:rgb(0%,0%,0%);stroke-opacity:1;stroke-miterlimit:10;\" d=\"M 270 150 C 270 155.523438 265.523438 160 260 160 C 254.476562 160 250 155.523438 250 150 C 250 144.476562 254.476562 140 260 140 C 265.523438 140 270 144.476562 270 150 \"/>\n",
       "<path style=\"fill-rule:nonzero;fill:rgb(100%,0%,0%);fill-opacity:1;stroke-width:1;stroke-linecap:butt;stroke-linejoin:miter;stroke:rgb(0%,0%,0%);stroke-opacity:1;stroke-miterlimit:10;\" d=\"M 50 260 C 50 265.523438 45.523438 270 40 270 C 34.476562 270 30 265.523438 30 260 C 30 254.476562 34.476562 250 40 250 C 45.523438 250 50 254.476562 50 260 \"/>\n",
       "<path style=\"fill-rule:nonzero;fill:rgb(100%,0%,0%);fill-opacity:1;stroke-width:1;stroke-linecap:butt;stroke-linejoin:miter;stroke:rgb(0%,0%,0%);stroke-opacity:1;stroke-miterlimit:10;\" d=\"M 50 40 C 50 45.523438 45.523438 50 40 50 C 34.476562 50 30 45.523438 30 40 C 30 34.476562 34.476562 30 40 30 C 45.523438 30 50 34.476562 50 40 \"/>\n",
       "<g style=\"fill:rgb(0%,0%,0%);fill-opacity:1;\">\n",
       "  <use xlink:href=\"#glyph0-1\" x=\"255.722656\" y=\"180.207031\"/>\n",
       "</g>\n",
       "<g style=\"fill:rgb(0%,0%,0%);fill-opacity:1;\">\n",
       "  <use xlink:href=\"#glyph0-2\" x=\"35.722656\" y=\"290.207031\"/>\n",
       "</g>\n",
       "<g style=\"fill:rgb(0%,0%,0%);fill-opacity:1;\">\n",
       "  <use xlink:href=\"#glyph0-3\" x=\"35.214844\" y=\"70.207031\"/>\n",
       "</g>\n",
       "</g>\n",
       "</svg>\n"
      ],
      "text/plain": [
       "<igraph.drawing.Plot at 0x7fdc294d4e50>"
      ]
     },
     "execution_count": 5,
     "metadata": {
      "image/svg+xml": {
       "isolated": true
      }
     },
     "output_type": "execute_result"
    }
   ],
   "source": [
    "import causaleffect\n",
    "from IPython.display import display, Math\n",
    "\n",
    "\n",
    "G = causaleffect.createGraph(['T->Y', 'X->T', 'X->Y'])\n",
    "\n",
    "print('Plotting graph...')\n",
    "causaleffect.plotGraph(G)"
   ]
  },
  {
   "cell_type": "code",
   "execution_count": 6,
   "id": "3255e809",
   "metadata": {},
   "outputs": [
    {
     "name": "stdout",
     "output_type": "stream",
     "text": [
      "Deriving identification formula using causal effect package...\n",
      "\n",
      " String for identification formula:   \\sum_{x}P(x)P(y|t, x)\n",
      "\n",
      " List of terms for parsing:   ['\\\\sum_{x}', 'P(x)', 'P(y|t, x)']\n",
      "\n",
      " Plotting latex...\n"
     ]
    },
    {
     "data": {
      "text/latex": [
       "$\\displaystyle \\sum_{x}P(x)P(y|t, x)$"
      ],
      "text/plain": [
       "<IPython.core.display.Math object>"
      ]
     },
     "metadata": {},
     "output_type": "display_data"
    }
   ],
   "source": [
    "print('Deriving identification formula using causal effect package...')\n",
    "P = causaleffect.ID({'Y'}, {'T'}, G)\n",
    "string = P.printLatex()\n",
    "print('\\n String for identification formula:  ', string)\n",
    "\n",
    "split_by = 'P'\n",
    "s =  [split_by+e for e in string.split(split_by) if e]\n",
    "\n",
    "s_updated = []\n",
    "\n",
    "for term in s:\n",
    "    if 'sum' in term and (term[0].split('\\\\')[0] == 'P'):\n",
    "        mod = s[0].split('\\\\')\n",
    "        s_updated.append('\\\\' + mod[1])\n",
    "    else:\n",
    "        s_updated.append(term)\n",
    "\n",
    "print('\\n List of terms for parsing:  ', s_updated)\n",
    "\n",
    "print('\\n Plotting latex...')\n",
    "display(Math(string))"
   ]
  },
  {
   "cell_type": "markdown",
   "id": "65c65e3b",
   "metadata": {},
   "source": [
    "## Derive the Influence Function"
   ]
  },
  {
   "cell_type": "code",
   "execution_count": 22,
   "id": "951f1d85",
   "metadata": {},
   "outputs": [],
   "source": [
    "est = \"sum_S P(x)P(y|t, x)\""
   ]
  },
  {
   "cell_type": "code",
   "execution_count": 23,
   "id": "9a32bf39",
   "metadata": {},
   "outputs": [
    {
     "ename": "ValueError",
     "evalue": "not enough values to unpack (expected 2, got 1)",
     "output_type": "error",
     "traceback": [
      "\u001b[0;31m---------------------------------------------------------------------------\u001b[0m",
      "\u001b[0;31mValueError\u001b[0m                                Traceback (most recent call last)",
      "\u001b[0;32m<ipython-input-23-6597391dadc3>\u001b[0m in \u001b[0;36m<module>\u001b[0;34m\u001b[0m\n\u001b[1;32m     47\u001b[0m     \u001b[0;32mreturn\u001b[0m \u001b[0mest\u001b[0m \u001b[0;34m+\u001b[0m \u001b[0;34m'[('\u001b[0m \u001b[0;34m+\u001b[0m \u001b[0mIF_nom\u001b[0m \u001b[0;34m+\u001b[0m \u001b[0;34m') - ('\u001b[0m \u001b[0;34m+\u001b[0m \u001b[0mIF_denom\u001b[0m \u001b[0;34m+\u001b[0m \u001b[0;34m')]'\u001b[0m\u001b[0;34m\u001b[0m\u001b[0;34m\u001b[0m\u001b[0m\n\u001b[1;32m     48\u001b[0m \u001b[0;34m\u001b[0m\u001b[0m\n\u001b[0;32m---> 49\u001b[0;31m \u001b[0mIF\u001b[0m \u001b[0;34m=\u001b[0m \u001b[0mIF_derivation\u001b[0m\u001b[0;34m(\u001b[0m\u001b[0mest\u001b[0m\u001b[0;34m)\u001b[0m\u001b[0;34m\u001b[0m\u001b[0;34m\u001b[0m\u001b[0m\n\u001b[0m",
      "\u001b[0;32m<ipython-input-23-6597391dadc3>\u001b[0m in \u001b[0;36mIF_derivation\u001b[0;34m(est)\u001b[0m\n\u001b[1;32m     40\u001b[0m \u001b[0;32mdef\u001b[0m \u001b[0mIF_derivation\u001b[0m\u001b[0;34m(\u001b[0m\u001b[0mest\u001b[0m\u001b[0;34m)\u001b[0m\u001b[0;34m:\u001b[0m\u001b[0;34m\u001b[0m\u001b[0;34m\u001b[0m\u001b[0m\n\u001b[1;32m     41\u001b[0m \u001b[0;34m\u001b[0m\u001b[0m\n\u001b[0;32m---> 42\u001b[0;31m     \u001b[0mnom_list\u001b[0m \u001b[0;34m=\u001b[0m \u001b[0mnominator_parse\u001b[0m\u001b[0;34m(\u001b[0m\u001b[0mest\u001b[0m\u001b[0;34m)\u001b[0m\u001b[0;34m\u001b[0m\u001b[0;34m\u001b[0m\u001b[0m\n\u001b[0m\u001b[1;32m     43\u001b[0m     \u001b[0mdenom_list\u001b[0m \u001b[0;34m=\u001b[0m \u001b[0mdenominator_parse\u001b[0m\u001b[0;34m(\u001b[0m\u001b[0mest\u001b[0m\u001b[0;34m)\u001b[0m\u001b[0;34m\u001b[0m\u001b[0;34m\u001b[0m\u001b[0m\n\u001b[1;32m     44\u001b[0m     \u001b[0mIF_nom\u001b[0m \u001b[0;34m=\u001b[0m \u001b[0;34m\"+\"\u001b[0m\u001b[0;34m.\u001b[0m\u001b[0mjoin\u001b[0m\u001b[0;34m(\u001b[0m\u001b[0mnom_list\u001b[0m\u001b[0;34m)\u001b[0m\u001b[0;34m\u001b[0m\u001b[0;34m\u001b[0m\u001b[0m\n",
      "\u001b[0;32m<ipython-input-23-6597391dadc3>\u001b[0m in \u001b[0;36mnominator_parse\u001b[0;34m(est)\u001b[0m\n\u001b[1;32m      1\u001b[0m \u001b[0;32mdef\u001b[0m \u001b[0mnominator_parse\u001b[0m\u001b[0;34m(\u001b[0m\u001b[0mest\u001b[0m\u001b[0;34m)\u001b[0m\u001b[0;34m:\u001b[0m\u001b[0;34m\u001b[0m\u001b[0;34m\u001b[0m\u001b[0m\n\u001b[0;32m----> 2\u001b[0;31m     \u001b[0;34m[\u001b[0m\u001b[0mnominator\u001b[0m\u001b[0;34m,\u001b[0m \u001b[0mdenominator\u001b[0m\u001b[0;34m]\u001b[0m \u001b[0;34m=\u001b[0m \u001b[0mest\u001b[0m\u001b[0;34m.\u001b[0m\u001b[0msplit\u001b[0m\u001b[0;34m(\u001b[0m\u001b[0;34m'/'\u001b[0m\u001b[0;34m)\u001b[0m\u001b[0;34m\u001b[0m\u001b[0;34m\u001b[0m\u001b[0m\n\u001b[0m\u001b[1;32m      3\u001b[0m     \u001b[0mnominator_terms\u001b[0m \u001b[0;34m=\u001b[0m \u001b[0mnominator\u001b[0m\u001b[0;34m.\u001b[0m\u001b[0msplit\u001b[0m\u001b[0;34m(\u001b[0m\u001b[0;34m\"P\"\u001b[0m\u001b[0;34m)\u001b[0m\u001b[0;34m\u001b[0m\u001b[0;34m\u001b[0m\u001b[0m\n\u001b[1;32m      4\u001b[0m \u001b[0;34m\u001b[0m\u001b[0m\n\u001b[1;32m      5\u001b[0m     \u001b[0;31m# Parse the nominator:\u001b[0m\u001b[0;34m\u001b[0m\u001b[0;34m\u001b[0m\u001b[0;34m\u001b[0m\u001b[0m\n",
      "\u001b[0;31mValueError\u001b[0m: not enough values to unpack (expected 2, got 1)"
     ]
    }
   ],
   "source": [
    "\n",
    "def nominator_parse(est):\n",
    "    [nominator, denominator] = est.split('/')\n",
    "    nominator_terms = nominator.split(\"P\")\n",
    "\n",
    "    # Parse the nominator:\n",
    "    nominator_list = [None]*(len(nominator_terms)-1)\n",
    "    i = 0\n",
    "    nominator_uncond_count = 0\n",
    "    for term in nominator_terms[1:]:\n",
    "        a_b = term.split(\"|\")\n",
    "        if len(a_b) == 1: # this means that set b is empty. Refer to the part where we defined \\delta(b)/P(b)=1 for this case.\n",
    "            nominator_list[i] = '\\\\frac{\\\\delta' + a_b[0] + ')}{P' + a_b[0] + ')}'\n",
    "            nominator_uncond_count += 1\n",
    "        else:\n",
    "            [a,b] = [a_b[0], a_b[1]]\n",
    "            ab = a + ',' + b\n",
    "            nominator_list[i] = '\\\\frac{\\\\delta' + ab + '}{P' + ab + ')}-\\\\frac{\\\\delta(' + b + '}{P(' + b + '}'\n",
    "        i += 1\n",
    "    return nominator_list\n",
    "\n",
    "def denominator_parse(est):\n",
    "    denominator_terms = denominator.split(\"P\")[1:]\n",
    "\n",
    "    # Parse the denominator:\n",
    "    denominator_list = [None]*len(denominator_terms)\n",
    "    i = 0\n",
    "    denominator_uncond_count = 0\n",
    "    for term in denominator_terms:\n",
    "        c_d = term.split(\"|\")\n",
    "        if len(c_d) == 1: # this means that set d is empty. Refer to the part where we defined \\delta(d)/P(d)=1 for this case.\n",
    "            denominator_list[i] = '\\\\frac{\\\\delta' + c_d[0] + ')}{P' + c_d[0] + ')}'\n",
    "            denominator_uncond_count += 1\n",
    "        else:\n",
    "            [c,d] = [c_d[0], c_d[1]]\n",
    "            cd = c + ',' + d\n",
    "            denominator_list[i] = '\\\\frac{\\\\delta' + ab + '}{P' + ab + ')}-\\\\frac{\\\\delta(' + b + '}{P(' + b + '}'\n",
    "        i += 1\n",
    "    return denominator_list\n",
    "\n",
    "def IF_derivation(est):\n",
    "    \n",
    "    nom_list = nominator_parse(est)\n",
    "    denom_list = denominator_parse(est)\n",
    "    IF_nom = \"+\".join(nom_list)\n",
    "    IF_denom = \"+\".join(nom_list)\n",
    "    \n",
    "    return est + '[(' + IF_nom + ') - (' + IF_denom + ')]'\n",
    "    \n",
    "IF = IF_derivation(est)"
   ]
  },
  {
   "cell_type": "code",
   "execution_count": null,
   "id": "2e12280e",
   "metadata": {},
   "outputs": [],
   "source": []
  },
  {
   "cell_type": "code",
   "execution_count": null,
   "id": "6a623039",
   "metadata": {},
   "outputs": [],
   "source": []
  }
 ],
 "metadata": {
  "kernelspec": {
   "display_name": "Python 3",
   "language": "python",
   "name": "python3"
  },
  "language_info": {
   "codemirror_mode": {
    "name": "ipython",
    "version": 3
   },
   "file_extension": ".py",
   "mimetype": "text/x-python",
   "name": "python",
   "nbconvert_exporter": "python",
   "pygments_lexer": "ipython3",
   "version": "3.7.11"
  }
 },
 "nbformat": 4,
 "nbformat_minor": 5
}
